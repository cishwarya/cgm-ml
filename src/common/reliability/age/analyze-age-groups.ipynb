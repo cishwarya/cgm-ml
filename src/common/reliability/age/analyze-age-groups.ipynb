{
 "cells": [
  {
   "cell_type": "code",
   "execution_count": 1,
   "metadata": {
    "collapsed": true,
    "gather": {
     "logged": 1606128261209
    },
    "jupyter": {
     "outputs_hidden": true,
     "source_hidden": false
    },
    "nteract": {
     "transient": {
      "deleting": false
     }
    }
   },
   "outputs": [],
   "source": [
    "from pathlib import Path\n",
    "import os\n",
    "import pickle\n",
    "import random\n",
    "import shutil\n",
    "\n",
    "import glob2 as glob\n",
    "import tensorflow as tf\n",
    "from tensorflow.keras import callbacks, layers, models, Model\n",
    "from azureml.core import Dataset, Workspace\n",
    "from azureml.core.run import Run"
   ]
  },
  {
   "cell_type": "code",
   "execution_count": 2,
   "metadata": {
    "collapsed": true,
    "jupyter": {
     "outputs_hidden": true,
     "source_hidden": false
    },
    "nteract": {
     "transient": {
      "deleting": false
     }
    }
   },
   "outputs": [],
   "source": [
    "%reload_ext autoreload\n",
    "%autoreload 2"
   ]
  },
  {
   "cell_type": "code",
   "execution_count": null,
   "metadata": {
    "collapsed": true,
    "gather": {
     "logged": 1606122775268
    },
    "jupyter": {
     "outputs_hidden": true,
     "source_hidden": false
    },
    "nteract": {
     "transient": {
      "deleting": false
     }
    }
   },
   "outputs": [],
   "source": []
  },
  {
   "cell_type": "code",
   "execution_count": 3,
   "metadata": {
    "collapsed": true,
    "gather": {
     "logged": 1606128263774
    },
    "jupyter": {
     "outputs_hidden": true,
     "source_hidden": false
    },
    "nteract": {
     "transient": {
      "deleting": false
     }
    }
   },
   "outputs": [
    {
     "data": {
      "text/plain": [
       "Workspace.create(name='cgm-azureml-prod', subscription_id='9b82ecea-6780-4b85-8acf-d27d79028f07', resource_group='cgm-ml-prod')"
      ]
     },
     "execution_count": 3,
     "metadata": {},
     "output_type": "execute_result"
    }
   ],
   "source": [
    "workspace = Workspace.from_config()\n",
    "workspace"
   ]
  },
  {
   "cell_type": "code",
   "execution_count": 4,
   "metadata": {
    "gather": {
     "logged": 1606128264828
    }
   },
   "outputs": [],
   "source": [
    "dataset_name = \"anon-realtime-evaluation\"\n",
    "dataset = Dataset.get_by_name(workspace, name=dataset_name)"
   ]
  },
  {
   "cell_type": "code",
   "execution_count": 16,
   "metadata": {
    "collapsed": true,
    "gather": {
     "logged": 1606127229350
    },
    "jupyter": {
     "outputs_hidden": true,
     "source_hidden": false
    },
    "nteract": {
     "transient": {
      "deleting": false
     }
    }
   },
   "outputs": [],
   "source": [
    "mount_context = dataset.mount()"
   ]
  },
  {
   "cell_type": "code",
   "execution_count": 17,
   "metadata": {
    "collapsed": true,
    "gather": {
     "logged": 1606127235160
    },
    "jupyter": {
     "outputs_hidden": true,
     "source_hidden": false
    },
    "nteract": {
     "transient": {
      "deleting": false
     }
    }
   },
   "outputs": [],
   "source": [
    "mount_context.start()  # this will mount the file streams"
   ]
  },
  {
   "cell_type": "code",
   "execution_count": 18,
   "metadata": {
    "collapsed": true,
    "gather": {
     "logged": 1606127236034
    },
    "jupyter": {
     "outputs_hidden": true,
     "source_hidden": false
    },
    "nteract": {
     "transient": {
      "deleting": false
     }
    }
   },
   "outputs": [
    {
     "data": {
      "text/plain": [
       "'/tmp/tmpgtr3f1wz'"
      ]
     },
     "execution_count": 18,
     "metadata": {},
     "output_type": "execute_result"
    }
   ],
   "source": [
    "mount_context.mount_point"
   ]
  },
  {
   "cell_type": "code",
   "execution_count": 19,
   "metadata": {
    "collapsed": true,
    "jupyter": {
     "outputs_hidden": true,
     "source_hidden": false
    },
    "nteract": {
     "transient": {
      "deleting": false
     }
    }
   },
   "outputs": [
    {
     "name": "stdout",
     "output_type": "stream",
     "text": [
      "depthmaps  pointclouds\trgb\n"
     ]
    }
   ],
   "source": [
    "! ls {mount_context.mount_point}"
   ]
  },
  {
   "cell_type": "code",
   "execution_count": null,
   "metadata": {
    "nteract": {
     "transient": {
      "deleting": false
     }
    }
   },
   "outputs": [],
   "source": [
    "! ls {mount_context.mount_point + '/depthmaps'}"
   ]
  },
  {
   "cell_type": "code",
   "execution_count": 6,
   "metadata": {
    "collapsed": true,
    "gather": {
     "logged": 1606128275257
    },
    "jupyter": {
     "outputs_hidden": true,
     "source_hidden": false
    },
    "nteract": {
     "transient": {
      "deleting": false
     }
    }
   },
   "outputs": [],
   "source": [
    "# ! pip install tensorflow-addons\n",
    "# ! pip install tensorflow==2.3.1"
   ]
  },
  {
   "cell_type": "code",
   "execution_count": 5,
   "metadata": {
    "collapsed": true,
    "jupyter": {
     "outputs_hidden": true,
     "source_hidden": false
    },
    "nteract": {
     "transient": {
      "deleting": false
     }
    }
   },
   "outputs": [
    {
     "name": "stdout",
     "output_type": "stream",
     "text": [
      "tensorflow                            2.3.1\n",
      "tensorflow-addons                     0.11.2\n",
      "tensorflow-estimator                  2.3.0\n",
      "tensorflow-gpu                        2.1.0\n"
     ]
    }
   ],
   "source": [
    "! pip list | grep tensorflow"
   ]
  },
  {
   "cell_type": "code",
   "execution_count": 7,
   "metadata": {
    "collapsed": true,
    "gather": {
     "logged": 1606128277718
    },
    "jupyter": {
     "outputs_hidden": true,
     "source_hidden": false
    },
    "nteract": {
     "transient": {
      "deleting": false
     }
    }
   },
   "outputs": [
    {
     "name": "stdout",
     "output_type": "stream",
     "text": [
      "/mnt/batch/tasks/shared/LS_root/mounts/clusters/mhinsche-ds16/code/Users/mhinsche/cgm-ml/src\n"
     ]
    }
   ],
   "source": [
    "import sys\n",
    "print(Path(os.getcwd()).parents[2])\n",
    "sys.path.append(str(Path(os.getcwd()).parents[2]))  # src/ dir\n",
    "\n",
    "from common.model_utils.utils import get_dataset_path, download_dataset"
   ]
  },
  {
   "cell_type": "code",
   "execution_count": 9,
   "metadata": {
    "collapsed": true,
    "gather": {
     "logged": 1606129647465
    },
    "jupyter": {
     "outputs_hidden": true,
     "source_hidden": false
    },
    "nteract": {
     "transient": {
      "deleting": false
     }
    }
   },
   "outputs": [],
   "source": [
    "# Downlaod dataset\n",
    "# DATA_DIR_ONLINE_RUN = Path(\"/tmp/data/\")\n",
    "# dataset_path = get_dataset_path(DATA_DIR_ONLINE_RUN, dataset_name)\n",
    "# download_dataset(workspace, dataset_name, dataset_path)"
   ]
  },
  {
   "cell_type": "code",
   "execution_count": 23,
   "metadata": {
    "collapsed": true,
    "gather": {
     "logged": 1606129917832
    },
    "jupyter": {
     "outputs_hidden": true,
     "source_hidden": false
    },
    "nteract": {
     "transient": {
      "deleting": false
     }
    }
   },
   "outputs": [],
   "source": [
    "import matplotlib.pyplot as plt\n",
    "%matplotlib inline\n",
    "\n",
    "from data_utils.data_visualisation.visualization_utils import (IMAGE_TARGET_HEIGHT, \n",
    "    IMAGE_TARGET_WIDTH, REPO_DIR, show_pickle, path_to_ndarray, choose_a_pickle_file, get_datetime, py_load_pickle)"
   ]
  },
  {
   "cell_type": "code",
   "execution_count": 15,
   "metadata": {
    "collapsed": true,
    "gather": {
     "logged": 1606129750629
    },
    "jupyter": {
     "outputs_hidden": true,
     "source_hidden": false
    },
    "nteract": {
     "transient": {
      "deleting": false
     }
    }
   },
   "outputs": [],
   "source": [
    "qrcode_path_ = Path(\"/tmp/data/anon-realtime-evaluation/depthmaps/1585015418-c5fsm1xtkt\")\n",
    "qrcode_path = str(qrcode_path_ / \"100/\")  # contains .p files\n",
    "path_with_wildcard = os.path.join(qrcode_path, \"*.p\")\n",
    "list_of_pickle_file_paths = sorted(glob.glob(path_with_wildcard))"
   ]
  },
  {
   "cell_type": "code",
   "execution_count": 16,
   "metadata": {
    "collapsed": true,
    "gather": {
     "logged": 1606129754501
    },
    "jupyter": {
     "outputs_hidden": true,
     "source_hidden": false
    },
    "nteract": {
     "transient": {
      "deleting": false
     }
    }
   },
   "outputs": [
    {
     "data": {
      "text/plain": [
       "['/tmp/data/anon-realtime-evaluation/depthmaps/1585015418-c5fsm1xtkt/100/pc_1585015418-c5fsm1xtkt_1591875489591_100_000.p',\n",
       " '/tmp/data/anon-realtime-evaluation/depthmaps/1585015418-c5fsm1xtkt/100/pc_1585015418-c5fsm1xtkt_1591875489591_100_001.p',\n",
       " '/tmp/data/anon-realtime-evaluation/depthmaps/1585015418-c5fsm1xtkt/100/pc_1585015418-c5fsm1xtkt_1591875489591_100_002.p',\n",
       " '/tmp/data/anon-realtime-evaluation/depthmaps/1585015418-c5fsm1xtkt/100/pc_1585015418-c5fsm1xtkt_1591875489591_100_003.p',\n",
       " '/tmp/data/anon-realtime-evaluation/depthmaps/1585015418-c5fsm1xtkt/100/pc_1585015418-c5fsm1xtkt_1591875489591_100_004.p',\n",
       " '/tmp/data/anon-realtime-evaluation/depthmaps/1585015418-c5fsm1xtkt/100/pc_1585015418-c5fsm1xtkt_1591875489591_100_005.p',\n",
       " '/tmp/data/anon-realtime-evaluation/depthmaps/1585015418-c5fsm1xtkt/100/pc_1585015418-c5fsm1xtkt_1591875489591_100_006.p']"
      ]
     },
     "execution_count": 16,
     "metadata": {},
     "output_type": "execute_result"
    }
   ],
   "source": [
    "list_of_pickle_file_paths"
   ]
  },
  {
   "cell_type": "code",
   "execution_count": 26,
   "metadata": {
    "collapsed": true,
    "gather": {
     "logged": 1606129954179
    },
    "jupyter": {
     "outputs_hidden": true,
     "source_hidden": false
    },
    "nteract": {
     "transient": {
      "deleting": false
     }
    }
   },
   "outputs": [],
   "source": [
    "def show_pickle(pickle_file_path):\n",
    "    depthmap, _targets = py_load_pickle(pickle_file_path)\n",
    "    # depthmap = tf.reshape(depthmap, (IMAGE_TARGET_HEIGHT, IMAGE_TARGET_WIDTH))\n",
    "    plt.imshow(depthmap.numpy(), cmap='gray', vmin=0, vmax=1)\n",
    "    print(f\"height: {_targets[0]:.2f} cm\")"
   ]
  },
  {
   "cell_type": "code",
   "execution_count": 27,
   "metadata": {
    "collapsed": true,
    "gather": {
     "logged": 1606129954440
    },
    "jupyter": {
     "outputs_hidden": true,
     "source_hidden": false
    },
    "nteract": {
     "transient": {
      "deleting": false
     }
    }
   },
   "outputs": [
    {
     "name": "stdout",
     "output_type": "stream",
     "text": [
      "5 /tmp/data/anon-realtime-evaluation/depthmaps/1585015418-c5fsm1xtkt/100/pc_1585015418-c5fsm1xtkt_1591875489591_100_005.p\n",
      "height: 104.90 cm\n"
     ]
    },
    {
     "data": {
      "image/png": "[encoded data removed]",
      "text/plain": [
       "<Figure size 432x288 with 1 Axes>"
      ]
     },
     "metadata": {
      "needs_background": "light"
     },
     "output_type": "display_data"
    }
   ],
   "source": [
    "# Naive step visualization\n",
    "i = 5\n",
    "\n",
    "print(i, list_of_pickle_file_paths[i])\n",
    "show_pickle(list_of_pickle_file_paths[i])\n",
    "i += 1"
   ]
  },
  {
   "cell_type": "code",
   "execution_count": 28,
   "metadata": {
    "collapsed": true,
    "gather": {
     "logged": 1606130042767
    },
    "jupyter": {
     "outputs_hidden": true,
     "source_hidden": false
    },
    "nteract": {
     "transient": {
      "deleting": false
     }
    }
   },
   "outputs": [],
   "source": [
    "pickle_file_path = list_of_pickle_file_paths[i]\n",
    "depthmap, _targets = py_load_pickle(pickle_file_path)"
   ]
  },
  {
   "cell_type": "code",
   "execution_count": 29,
   "metadata": {
    "collapsed": true,
    "gather": {
     "logged": 1606130048084
    },
    "jupyter": {
     "outputs_hidden": true,
     "source_hidden": false
    },
    "nteract": {
     "transient": {
      "deleting": false
     }
    }
   },
   "outputs": [
    {
     "data": {
      "text/plain": [
       "TensorShape([240, 180, 3])"
      ]
     },
     "execution_count": 29,
     "metadata": {},
     "output_type": "execute_result"
    }
   ],
   "source": [
    "depthmap.shape"
   ]
  },
  {
   "cell_type": "code",
   "execution_count": 30,
   "metadata": {
    "collapsed": true,
    "gather": {
     "logged": 1606130095755
    },
    "jupyter": {
     "outputs_hidden": true,
     "source_hidden": false
    },
    "nteract": {
     "transient": {
      "deleting": false
     }
    }
   },
   "outputs": [
    {
     "data": {
      "text/plain": [
       "array([104.9], dtype=float32)"
      ]
     },
     "execution_count": 30,
     "metadata": {},
     "output_type": "execute_result"
    }
   ],
   "source": [
    "_targets"
   ]
  },
  {
   "cell_type": "code",
   "execution_count": null,
   "metadata": {
    "collapsed": true,
    "jupyter": {
     "outputs_hidden": true,
     "source_hidden": false
    },
    "nteract": {
     "transient": {
      "deleting": false
     }
    }
   },
   "outputs": [],
   "source": []
  }
 ],
 "metadata": {
  "kernel_info": {
   "name": "python3-azureml"
  },
  "kernelspec": {
   "display_name": "Python 3.7.5 64-bit ('env_p_3': virtualenv)",
   "language": "python",
   "name": "python37564bitenvp3virtualenvba1e5b23cb4b48a69a71f222fe56e324"
  },
  "language_info": {
   "codemirror_mode": {
    "name": "ipython",
    "version": 3
   },
   "file_extension": ".py",
   "mimetype": "text/x-python",
   "name": "python",
   "nbconvert_exporter": "python",
   "pygments_lexer": "ipython3",
   "version": "3.7.5"
  },
  "nteract": {
   "version": "nteract-front-end@1.0.0"
  }
 },
 "nbformat": 4,
 "nbformat_minor": 4
}
